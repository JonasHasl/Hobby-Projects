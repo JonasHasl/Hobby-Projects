%matplotlib inline
# Imports
from clr import AddReference
AddReference("System")
AddReference("QuantConnect.Common")
AddReference("QuantConnect.Indicators")
from System import *
from QuantConnect import *
from QuantConnect.Data.Custom import *
from QuantConnect.Data.Market import TradeBar, QuoteBar
from QuantConnect.Indicators import *
from datetime import datetime, timedelta
import matplotlib.pyplot as plt
import pandas as pd
import operator

from decimal import Decimal
from io import StringIO
import random


# Create an instance
qb = QuantBook()

# Select asset data
dates = datetime(2015,10,1), datetime(2015,10,1)

link = 'https://www.dropbox.com/s/4ru3kxbns1fp5lt/constituents_csv.csv?dl=1'
strFile = qb.Download(link)
fileDf = pd.read_csv(StringIO(strFile), sep = ',')
symbols = [x for x in list(fileDf['Symbol'])]

symbols1 = ['ZM', 'MELI', 'COST,', 'TSLA', 'LULU', 'UARM'] 
 
symbols = symbols1 + symbols

symbols = 'UARM'
 
df1 = qb.GetFundamental(symbols, ("OperationRatios.RevenueGrowth.ThreeMonths"), *dates)
df2 = qb.GetFundamental(symbols, ("OperationRatios.EBITDAMargin.ThreeMonths"), *dates)
df3 = qb.GetFundamental(symbols, ("OperationRatios.AssetsTurnover.ThreeMonths"), *dates)
df4 = qb.GetFundamental(symbols, ("OperationRatios.OperationMargin.ThreeMonths"), *dates)
df5 = qb.GetFundamental(symbols, ("AssetClassification.SizeScore"), *dates)
df6 = qb.GetFundamental(symbols, ("AssetClassification.GrowthScore"), *dates)
df7 = qb.GetFundamental(symbols, ("AssetClassification.StyleScore"), *dates)
df8 = qb.GetFundamental(symbols, ("EarningRatios.EquityPerShareGrowth.ThreeMonths"), *dates)
df9 = qb.GetFundamental(symbols, ("CompanyReference.BusinessCountryID"), *dates)
df10 = qb.GetFundamental(symbols, ("ValuationRatios.PBRatio"), *dates)
df11 = qb.GetFundamental(symbols, ("OperationRatios.GrossMargin5YrAvg.FiveYears"), *dates)
df12 = qb.GetFundamental(symbols, ("ValuationRatios.PSRatio"), *dates)
df13 = qb.GetFundamental(symbols, ("ValuationRatios.PCFRatio"), *dates)
df14 = qb.GetFundamental(symbols, ("MarketCap"), *dates)
df15 = qb.GetFundamental(symbols, ("ValuationRatios.PERatio"), *dates)
df16 = qb.GetFundamental(symbols, ("AssetClassification.MorningstarSectorCode"), *dates)
df17 = qb.GetFundamental(symbols, ("OperationRatios.RevenueGrowth.ThreeYears"), *dates)
#df3 = df1.rank()
#df.apply(lambda x: df.max())

frames = [df1, df2, df3, df4, df5, df6, df7, df8, df9, df10, df11, df12, df13, df15, df16, df17]
results = pd.concat(frames, keys=["Revenue Growth",
                                  "EBITDAMargin",
                                  "AssetsTurnover",
                                  "GrossMargin",
                                  "SizeScore",
                                  "Growth Score",
                                  "StyleScore",
                                  "Equity_Growth",
                                  'CountryID',
                                  'PBRatio',
                                  'GrossMarginAvg',
                                  'PSRatio',
                                  'PCFRatio',
                                  'PERatio',
                                  'SectorCode',
                                  'Revenue_Growth3'])

#results = results


#pd.DataFrame(df)

#print(pd.DataFrame(results))

#print(df.tail())


results


#Ranking stocks

test = pd.DataFrame(results)
test = test.T
#test = test.reset_index()
#test = test.iloc[0: , :]
#dataframe = score_df.rename(columns={score_df.columns[0]: 'Total Score'})
#test = test.rename(columns={test.columns[]: 'Revenue Growth'})

test['revenue_growth_score'] = test['Revenue Growth'].rank(ascending=True)
test['ebitda_margin_score'] = test['EBITDAMargin'].rank(ascending=True)
test['assets_turnover_score'] = test['AssetsTurnover'].rank(ascending=True)
test['gross_margin_score'] = test['GrossMargin'].rank(ascending=True)
test['size_score_score'] = test['SizeScore'].rank(ascending=True)
test['growth_score'] = test['Growth Score'].rank(ascending=True)
test['style_score'] = test['StyleScore'].rank(ascending=True)
test['pbratio_score'] = test['PBRatio'].rank(ascending=True)
test['psratio_score'] = test['PSRatio'].rank(ascending=True)
test['pcf_score'] = test['PCFRatio'].rank(ascending=True)
test['equity_growth_score'] = test['Equity_Growth'].rank(ascending=True)
test['peratio_score'] = test['PERatio'].rank(ascending=True)
test['grossmargin_avg_score'] = test['GrossMarginAvg'].rank(ascending=True)
test['revenue_growth3_score'] = test['Revenue_Growth3'].rank(ascending=True)

test['combined_alpha'] = ((test['ebitda_margin_score'])*30 + 
                          (test['revenue_growth_score'])*145 + 
                          (test['assets_turnover_score'])*80 + 
                          (test['gross_margin_score'])*26 +
                          (test['size_score_score'])*110 +
                          (test['growth_score'])*10 +
                          (test['style_score']*10)+
                         (test['equity_growth_score'])*9+
                         (test['pbratio_score'])*2+
                         (test['psratio_score'])*2+
                         (test['pcf_score'])*2 +
                         (test['peratio_score'])*2 + 
                         (test['grossmargin_avg_score'])*15
                         #(test['revenue_growth_score3'])*3
                         )


test = test.sort_values('combined_alpha', ascending=False)
#test = test.reset_index()
#df.filter(items=['one', 'three'])
test.T
